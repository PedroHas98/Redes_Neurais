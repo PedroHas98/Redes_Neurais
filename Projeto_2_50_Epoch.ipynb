{
  "nbformat": 4,
  "nbformat_minor": 0,
  "metadata": {
    "colab": {
      "provenance": []
    },
    "kernelspec": {
      "name": "python3",
      "display_name": "Python 3"
    },
    "language_info": {
      "name": "python"
    }
  },
  "cells": [
    {
      "cell_type": "code",
      "execution_count": null,
      "metadata": {
        "id": "rMc34h0-h8m3"
      },
      "outputs": [],
      "source": [
        "#Importação das bibliotecas\n",
        "from keras.utils import pad_sequences\n",
        "from keras.layers import Embedding, LSTM, Dense, Dropout\n",
        "from keras.preprocessing.text import Tokenizer\n",
        "from keras.callbacks import EarlyStopping\n",
        "from keras.models import Sequential\n",
        "import keras.utils as ku \n",
        "import tensorflow\n",
        "from numpy.random import seed\n",
        "tensorflow.random.set_seed(2)\n",
        "seed(1)\n",
        "\n",
        "import pandas as pd\n",
        "import numpy as np\n",
        "import string, os \n",
        "\n",
        "import warnings\n",
        "warnings.filterwarnings(\"ignore\")\n",
        "warnings.simplefilter(action='ignore', category=FutureWarning)"
      ]
    },
    {
      "cell_type": "code",
      "source": [
        "## Carregando todos os comentários como uma lista \n",
        "curr_dir = './input/'\n",
        "all_headlines = []\n",
        "\n",
        "for filename in os.listdir(curr_dir):\n",
        "    if 'Articles' in filename:\n",
        "        with open(curr_dir + filename, 'r') as f:\n",
        "            lines = f.readlines()\n",
        "            for line_num, line in enumerate(lines):\n",
        "                try:\n",
        "                    fields = line.split(',')\n",
        "                    headline = fields[0]\n",
        "                    if headline != \"Unknown\":\n",
        "                        all_headlines.append(headline)\n",
        "                except Exception as e:\n",
        "                    print(f\"Error in file {filename} on line {line_num}: {e}\")\n",
        "print(\"Número de manchetes:\", len(all_headlines))"
      ],
      "metadata": {
        "colab": {
          "base_uri": "https://localhost:8080/"
        },
        "id": "Y0wR6nB_iSH2",
        "outputId": "abb7587d-14c7-4474-db9c-78e364720063"
      },
      "execution_count": null,
      "outputs": [
        {
          "output_type": "stream",
          "name": "stdout",
          "text": [
            "Número de manchetes: 9551\n"
          ]
        }
      ]
    },
    {
      "cell_type": "code",
      "source": [
        "#Limpeza de dados. Essa função pega um único título por vez e retorna o título limpo.\n",
        "def clean_text(txt):\n",
        "    txt = \"\".join(v for v in txt if v not in string.punctuation).lower()\n",
        "    txt = txt.encode(\"utf8\").decode(\"ascii\",'ignore')\n",
        "    return txt \n",
        "\n",
        "corpus = [clean_text(x) for x in all_headlines]\n",
        "corpus[:10]"
      ],
      "metadata": {
        "id": "F16UgQmEiUDy",
        "colab": {
          "base_uri": "https://localhost:8080/"
        },
        "outputId": "4b658739-7db9-42b0-8ee3-b6dcead45d22"
      },
      "execution_count": null,
      "outputs": [
        {
          "output_type": "execute_result",
          "data": {
            "text/plain": [
              "['comentarionotadata\\n',\n",
              " 'o parque  lindo fizemos a trilha dos saltos amarela  possvel fazer sem guia',\n",
              " 'impossvel descrever com palavras oq s presencialmente se vivncia o guia chico 62 981150774',\n",
              " 'eu fiz a trilha vermelha e o visual  de tirar o flego',\n",
              " 'um lugar lindo',\n",
              " 'um dia em alto paraiso de goias',\n",
              " 'o parque  bem famoso mas no tem muita acessibilidade para cadeirantes ou qualquer outra pessoa com comorbidade',\n",
              " 'na minha opinio no tem como a pessoa vir ate a chapada e no conhecer o parque nacional logo na entrada podemos escolher entre 3 ou 4 trilhas',\n",
              " 'o parque no informa que no perodo sem chuvas o canions ficam secos e somente com gua parada para banhoa trilha vermelha cariocascanions no deve ser feita em tempo de seca',\n",
              " 'espetacular parque com trilhas que nos trazem a ns mesmos e visuais de tirar o flego oportunidade de contato com a natureza intocada e selvagem do cerrado da ate para banhos']"
            ]
          },
          "metadata": {},
          "execution_count": 3
        }
      ]
    },
    {
      "cell_type": "code",
      "source": [
        "#Crias sequências de n-gramas de palavras a partir de um corpus de texto e retornar essas sequências e o número total de palavras no corpus.\n",
        "tokenizer = Tokenizer()\n",
        "\n",
        "def get_sequence_of_tokens(corpus):\n",
        "    ## tokenization\n",
        "    tokenizer.fit_on_texts(corpus)\n",
        "    total_words = len(tokenizer.word_index) + 1\n",
        "    \n",
        "    ## convert data to sequence of tokens \n",
        "    input_sequences = []\n",
        "    for line in corpus:\n",
        "        token_list = tokenizer.texts_to_sequences([line])[0]\n",
        "        for i in range(1, len(token_list)):\n",
        "            n_gram_sequence = token_list[:i+1]\n",
        "            input_sequences.append(n_gram_sequence)\n",
        "    return input_sequences, total_words\n",
        "\n",
        "inp_sequences, total_words = get_sequence_of_tokens(corpus)\n",
        "inp_sequences[:10]"
      ],
      "metadata": {
        "id": "hlgV_G5ziYvQ",
        "colab": {
          "base_uri": "https://localhost:8080/"
        },
        "outputId": "7dd17486-9356-4684-f66d-892281318d20"
      },
      "execution_count": null,
      "outputs": [
        {
          "output_type": "execute_result",
          "data": {
            "text/plain": [
              "[[4, 18],\n",
              " [4, 18, 60],\n",
              " [4, 18, 60, 93],\n",
              " [4, 18, 60, 93, 2],\n",
              " [4, 18, 60, 93, 2, 34],\n",
              " [4, 18, 60, 93, 2, 34, 11],\n",
              " [4, 18, 60, 93, 2, 34, 11, 82],\n",
              " [4, 18, 60, 93, 2, 34, 11, 82, 559],\n",
              " [4, 18, 60, 93, 2, 34, 11, 82, 559, 163],\n",
              " [4, 18, 60, 93, 2, 34, 11, 82, 559, 163, 78]]"
            ]
          },
          "metadata": {},
          "execution_count": 4
        }
      ]
    },
    {
      "cell_type": "code",
      "source": [
        "#Gera sequências de entrada padronizadas para um modelo de aprendizado de máquina, com base em sequências de tokens de texto pré-processadas. def generate_padded_sequences(input_sequences):\n",
        "def generate_padded_sequences(input_sequences):\n",
        "    max_sequence_len = max([len(x) for x in input_sequences])\n",
        "    input_sequences = np.array(pad_sequences(input_sequences, maxlen=max_sequence_len, padding='pre'))\n",
        "    predictors, label = input_sequences[:,:-1],input_sequences[:,-1]\n",
        "    label = ku.to_categorical(label, num_classes=total_words)\n",
        "    return predictors, label, max_sequence_len\n",
        "\n",
        "predictors, label, max_sequence_len = generate_padded_sequences(inp_sequences)"
      ],
      "metadata": {
        "id": "VuKf-I6jibpa"
      },
      "execution_count": null,
      "outputs": []
    },
    {
      "cell_type": "code",
      "source": [
        "#A função cria um modelo de rede neural LSTM para gerar texto a partir de um corpus de comentarios limpas.\n",
        "def create_model(max_sequence_len, total_words):\n",
        "    input_len = max_sequence_len - 1\n",
        "    model = Sequential()\n",
        "    \n",
        "    # Add Input Embedding Layer\n",
        "    model.add(Embedding(total_words, 10, input_length=input_len))\n",
        "    \n",
        "    # Add Hidden Layer 1 - LSTM Layer\n",
        "    model.add(LSTM(100))\n",
        "    model.add(Dropout(0.1))\n",
        "    \n",
        "    # Add Output Layer\n",
        "    model.add(Dense(total_words, activation='softmax'))\n",
        "\n",
        "    model.compile(loss='categorical_crossentropy', optimizer='adam')\n",
        "    \n",
        "    return model\n",
        "\n",
        "model = create_model(max_sequence_len, total_words)\n",
        "model.summary()"
      ],
      "metadata": {
        "id": "Pma3mfpKieWO",
        "colab": {
          "base_uri": "https://localhost:8080/"
        },
        "outputId": "a5a9d6fe-69c6-4c4c-d4b7-383893bd2f54"
      },
      "execution_count": null,
      "outputs": [
        {
          "output_type": "stream",
          "name": "stdout",
          "text": [
            "Model: \"sequential\"\n",
            "_________________________________________________________________\n",
            " Layer (type)                Output Shape              Param #   \n",
            "=================================================================\n",
            " embedding (Embedding)       (None, 110, 10)           93860     \n",
            "                                                                 \n",
            " lstm (LSTM)                 (None, 100)               44400     \n",
            "                                                                 \n",
            " dropout (Dropout)           (None, 100)               0         \n",
            "                                                                 \n",
            " dense (Dense)               (None, 9386)              947986    \n",
            "                                                                 \n",
            "=================================================================\n",
            "Total params: 1,086,246\n",
            "Trainable params: 1,086,246\n",
            "Non-trainable params: 0\n",
            "_________________________________________________________________\n"
          ]
        }
      ]
    },
    {
      "cell_type": "code",
      "source": [
        "#Treinando o modelo\n",
        "history = model.fit(predictors, label, epochs=50, batch_size=256, verbose=5)"
      ],
      "metadata": {
        "id": "8YTkxaeNihP_",
        "colab": {
          "base_uri": "https://localhost:8080/"
        },
        "outputId": "721e66ad-f09d-4a2f-f925-2573e3146898"
      },
      "execution_count": null,
      "outputs": [
        {
          "output_type": "stream",
          "name": "stdout",
          "text": [
            "Epoch 1/50\n",
            "Epoch 2/50\n",
            "Epoch 3/50\n",
            "Epoch 4/50\n",
            "Epoch 5/50\n",
            "Epoch 6/50\n",
            "Epoch 7/50\n",
            "Epoch 8/50\n",
            "Epoch 9/50\n",
            "Epoch 10/50\n",
            "Epoch 11/50\n",
            "Epoch 12/50\n",
            "Epoch 13/50\n",
            "Epoch 14/50\n",
            "Epoch 15/50\n",
            "Epoch 16/50\n",
            "Epoch 17/50\n",
            "Epoch 18/50\n",
            "Epoch 19/50\n",
            "Epoch 20/50\n",
            "Epoch 21/50\n",
            "Epoch 22/50\n",
            "Epoch 23/50\n",
            "Epoch 24/50\n",
            "Epoch 25/50\n",
            "Epoch 26/50\n",
            "Epoch 27/50\n",
            "Epoch 28/50\n",
            "Epoch 29/50\n",
            "Epoch 30/50\n",
            "Epoch 31/50\n",
            "Epoch 32/50\n",
            "Epoch 33/50\n",
            "Epoch 34/50\n",
            "Epoch 35/50\n",
            "Epoch 36/50\n",
            "Epoch 37/50\n",
            "Epoch 38/50\n",
            "Epoch 39/50\n",
            "Epoch 40/50\n",
            "Epoch 41/50\n",
            "Epoch 42/50\n",
            "Epoch 43/50\n",
            "Epoch 44/50\n",
            "Epoch 45/50\n",
            "Epoch 46/50\n",
            "Epoch 47/50\n",
            "Epoch 48/50\n",
            "Epoch 49/50\n",
            "Epoch 50/50\n"
          ]
        }
      ]
    },
    {
      "cell_type": "code",
      "source": [
        "#Essa função recebe um texto inicial e um modelo treinado de redes neurais e gera um texto com um número específico de palavras preditas pelo modelo a partir do texto inicial.\n",
        "def generate_text(seed_text, next_words, model, max_sequence_len):\n",
        "    for _ in range(next_words):\n",
        "        token_list = tokenizer.texts_to_sequences([seed_text])[0]\n",
        "        token_list = pad_sequences([token_list], maxlen=max_sequence_len-1, padding='pre')\n",
        "        predicted = model.predict(token_list, verbose=0)\n",
        "        \n",
        "        output_word = \"\"\n",
        "        for word,index in tokenizer.word_index.items():\n",
        "            if index == predicted:\n",
        "                output_word = word\n",
        "                break\n",
        "        seed_text += \" \"+output_word\n",
        "    return seed_text.title()"
      ],
      "metadata": {
        "id": "dbhsOgJbikYT"
      },
      "execution_count": null,
      "outputs": []
    },
    {
      "cell_type": "code",
      "source": [
        "#A função \"generate_text\" gera um texto preditivo baseado em um texto inicial (seed_text) \n",
        "import tensorflow as tf\n",
        "\n",
        "def generate_text(seed_text, next_words, model, max_sequence_len):\n",
        "    for _ in range(next_words):\n",
        "        token_list = tokenizer.texts_to_sequences([seed_text])[0]\n",
        "        token_list = pad_sequences([token_list], maxlen=max_sequence_len-1, padding='pre')\n",
        "        predicted_probs = model.predict(token_list, verbose=0)\n",
        "        predicted = tf.argmax(predicted_probs, axis=-1)\n",
        "        output_word = \"\"\n",
        "        for word, index in tokenizer.word_index.items():\n",
        "            if index == predicted:\n",
        "                output_word = word\n",
        "                break\n",
        "        seed_text += \" \" + output_word\n",
        "    return seed_text.title()"
      ],
      "metadata": {
        "id": "yJ81ZBtfyko_"
      },
      "execution_count": null,
      "outputs": []
    },
    {
      "cell_type": "code",
      "source": [
        "#Gera um texto com base em uma sequência inicial de palavras, usando um modelo de rede neural treinado para prever a próxima palavra com base nas palavras anteriores.\n",
        "print (generate_text(\"O mercado do veropeso e\", 12, model, max_sequence_len))\n",
        "print (generate_text(\"O parque da chapada dos veadeiros e\", 8, model, max_sequence_len))\n",
        "print (generate_text(\"O parque jalapao\", 10, model, max_sequence_len))\n",
        "print (generate_text(\"A praca dos 3 poderes\",16, model, max_sequence_len))"
      ],
      "metadata": {
        "colab": {
          "base_uri": "https://localhost:8080/"
        },
        "id": "3bQo6g8axqma",
        "outputId": "6f5ea9eb-9f0e-4ac9-f617-8a152d8b0c1c"
      },
      "execution_count": null,
      "outputs": [
        {
          "output_type": "stream",
          "name": "stdout",
          "text": [
            "O Mercado Do Veropeso E Um Mercado De Belm E No Pode Deixar De Visitar O Mercado\n",
            "O Parque Da Chapada Dos Veadeiros E No Tem Muita Coisa Para Conhecer O Mercado\n",
            "O Parque Jalapao Nacional Da Chapada Dos Veadeiros Um Lugar Muito Bonito E\n",
            "A Praca Dos 3 Poderes Um Lugar Muito Bonito E Com Muitas Opes De Frutas E Legumes Que Se Pode Fazer\n"
          ]
        }
      ]
    },
    {
      "cell_type": "code",
      "source": [
        "#plotando o gráfico perca loss\n",
        "import matplotlib.pyplot as plt\n",
        "plt.plot(history.history['loss'])\n",
        "plt.title('Model Loss')\n",
        "plt.xlabel('Epoch')\n",
        "plt.ylabel('Loss')\n",
        "plt.show()"
      ],
      "metadata": {
        "colab": {
          "base_uri": "https://localhost:8080/",
          "height": 472
        },
        "id": "pOaXYhfnjHg4",
        "outputId": "4a62c29a-5fe9-4a9d-d0f6-dcb1b8443548"
      },
      "execution_count": null,
      "outputs": [
        {
          "output_type": "display_data",
          "data": {
            "text/plain": [
              "<Figure size 640x480 with 1 Axes>"
            ],
            "image/png": "[encoded data removed]"
          },
          "metadata": {}
        }
      ]
    }
  ]
}